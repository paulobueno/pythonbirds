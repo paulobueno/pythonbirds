{
 "cells": [
  {
   "cell_type": "markdown",
   "metadata": {
    "deletable": true,
    "editable": true
   },
   "source": [
    "# Notes from pythonbrids course\n",
    "## https://www.python.pro.br/"
   ]
  },
  {
   "cell_type": "markdown",
   "metadata": {
    "deletable": true,
    "editable": true
   },
   "source": [
    "### Python version\n",
    "using 3.6.5<br>\n",
    "We are going to use python3 and tkinter lib<br>\n",
    "As a default, unix based systems have already installed python<br>\n",
    "Important to check if the installed version is the most recently one<br>"
   ]
  },
  {
   "cell_type": "markdown",
   "metadata": {
    "deletable": true,
    "editable": true
   },
   "source": [
    "### Deffinitions\n",
    "Terminal is denominated **REPL**: Read, Evaluate, Print, Loop"
   ]
  },
  {
   "cell_type": "markdown",
   "metadata": {
    "deletable": true,
    "editable": true
   },
   "source": [
    "### Commands\n",
    "- Control + space → auto complete in pycharm ‘Python Console’\n",
    "- dir() → command used to evaluate what methods are applied to an object\n",
    "- id() → function to identify what ID an specific object is\n",
    "- (::-1) → returns the inverse of a list"
   ]
  },
  {
   "cell_type": "markdown",
   "metadata": {
    "deletable": true,
    "editable": true
   },
   "source": [
    "### Tuples"
   ]
  },
  {
   "cell_type": "markdown",
   "metadata": {
    "deletable": true,
    "editable": true
   },
   "source": [
    "Sequence of values that can't be changed"
   ]
  },
  {
   "cell_type": "code",
   "execution_count": 3,
   "metadata": {
    "collapsed": false,
    "deletable": true,
    "editable": true
   },
   "outputs": [
    {
     "name": "stdout",
     "output_type": "stream",
     "text": [
      "Rafael\n"
     ]
    }
   ],
   "source": [
    "Registro = ('Rafael', 26)\n",
    "nome, idade = Registro\n",
    "print(nome)"
   ]
  },
  {
   "cell_type": "markdown",
   "metadata": {
    "deletable": true,
    "editable": true
   },
   "source": [
    "Above, we have an example of packing and unpacking<br>\n",
    "We do can add two tuples, generating a new object. as a result, we will have an other id(), as we can see below<br>"
   ]
  },
  {
   "cell_type": "code",
   "execution_count": 5,
   "metadata": {
    "collapsed": false,
    "deletable": true,
    "editable": true
   },
   "outputs": [
    {
     "name": "stdout",
     "output_type": "stream",
     "text": [
      "4415135816 4415157640 4415354344\n"
     ]
    }
   ],
   "source": [
    "tup_1 = ('abc', 12)\n",
    "tup_2 = ('def', 11)\n",
    "tup_3 = tup_1 + tup_1\n",
    "print(id(tup_1), id(tup_2), id(tup_3))"
   ]
  },
  {
   "cell_type": "code",
   "execution_count": 8,
   "metadata": {
    "collapsed": false,
    "deletable": true,
    "editable": true
   },
   "outputs": [
    {
     "name": "stdout",
     "output_type": "stream",
     "text": [
      "[1, 2, 3, 4, 2, 3, 4, 5]\n",
      "4415851464 4416020616 4415709576\n"
     ]
    }
   ],
   "source": [
    "list_1 = [1,2,3,4]\n",
    "list_2 = [2,3,4,5]\n",
    "list_3 = list_1 + list_2\n",
    "print(list_3)\n",
    "print(id(list_1),id(list_2),id(list_3))"
   ]
  },
  {
   "cell_type": "markdown",
   "metadata": {
    "deletable": true,
    "editable": true
   },
   "source": [
    "## Classes\n",
    "\n",
    "According to pop8, classes must e named based on CammelCase format"
   ]
  },
  {
   "cell_type": "code",
   "execution_count": 13,
   "metadata": {
    "collapsed": false,
    "deletable": true,
    "editable": true
   },
   "outputs": [
    {
     "name": "stdout",
     "output_type": "stream",
     "text": [
      "<class 'type'>\n"
     ]
    }
   ],
   "source": [
    "class Pessoa:\n",
    "    pass\n",
    "\n",
    "print(type(Pessoa))"
   ]
  },
  {
   "cell_type": "markdown",
   "metadata": {
    "deletable": true,
    "editable": true
   },
   "source": [
    "The most important element in a class is the method.<br>\n",
    "Methods are functions inside classes, and like everything in python, is an object<br>\n",
    "To create a method, we have the following:<br>"
   ]
  },
  {
   "cell_type": "code",
   "execution_count": 18,
   "metadata": {
    "collapsed": false,
    "deletable": true,
    "editable": true
   },
   "outputs": [
    {
     "data": {
      "text/plain": [
       "function"
      ]
     },
     "execution_count": 18,
     "metadata": {},
     "output_type": "execute_result"
    }
   ],
   "source": [
    "class Pessoa:\n",
    "    def cumprimentar(self):\n",
    "        return 'Ola'\n",
    "type(Pessoa.cumprimentar)"
   ]
  },
  {
   "cell_type": "markdown",
   "metadata": {
    "deletable": true,
    "editable": true
   },
   "source": [
    "`A palavra ‘self’ e usada de forma usual ao se criar um metodo, apesar de que qualquer palavra possa ser utilizada e ela nao e um termo reservado do python\n",
    "Esse termo pode variar de liguagem para linguage, como por exemplo no Java, esse termo e trocado para o ‘this’\n",
    "\n",
    "Ao aplicar algumas modificacoes no codigo, temos o seguinte:\n",
    "class Pessoa:\n",
    "   def cumprimentar(self):\n",
    "       return f'Ola {id(self)}'\n",
    "\n",
    "if __name__ == '__main__':\n",
    "   p = Pessoa()\n",
    "   print(Pessoa.cumprimentar(p))\n",
    "   print(id(p))\n",
    "   print(p.cumprimentar())\n",
    "\n",
    "Retorno:\n",
    "/usr/bin/python3.6 /home/paulo/PycharmProjects/pythonbirds/OO/pessoa.py\n",
    "Ola 140667988409480\n",
    "140667988409480\n",
    "Ola 140667988409480\n",
    "\n",
    "Vemos que o ‘self’ e o mesmo que chamar o proprio objeto, no caso ‘p’\n",
    "O que acontece e que ao chamar p.cumprimentar(), o python implicitamente esta colocando ‘p’ como primeiro parametro do metodo (que funciona como uma funcao)\n",
    "Caso executemos a funcao p.cumprimentar(p), ela retornara um erro, pois ai estariamos colocando dois argumentos dentro de um metodo que so aceita um argumento, no caso o ‘self’\n",
    "\n",
    "Instancia\n",
    "Instancia de uma classe ‘e um objecto que se moldou de uma classe. Atributo de um objeto ou classe ‘e nomenclatura usada para denominar ‘qualidades’ dadas ao objeto\n",
    "\n",
    "Checar todos os atributos de instancia de um objeto:\n",
    "objecto.__dict__\n",
    "Retorna todos os parametros desse objeto\n",
    "\n",
    "‘E possivel colocar atributos dinamicos em um objeto, basta acessa-lo e colocar nome_objeto.novo_atributo\n",
    "\n",
    "Conseguimos tambem remover atributos, mesmo que tenham sido definidos no __init__`"
   ]
  },
  {
   "cell_type": "markdown",
   "metadata": {
    "deletable": true,
    "editable": true
   },
   "source": [
    "### Methods\n",
    "#### Decorators\n",
    "##### Static\n",
    "Like class' attribtes, we can define functions that will be used by all objects from a class, avoiding duplicity<br>\n",
    "Is used the following code:<br>"
   ]
  },
  {
   "cell_type": "markdown",
   "metadata": {
    "deletable": true,
    "editable": true
   },
   "source": [
    "**@staticmethod<br>**\n",
    "Unlike any method of instance from the class, static methods doesn't need the object to run <br>\n",
    "It is a function of the class<br>"
   ]
  },
  {
   "cell_type": "code",
   "execution_count": 1,
   "metadata": {
    "collapsed": true
   },
   "outputs": [],
   "source": [
    "class Pessoa:\n",
    "    olhos = 2\n",
    "    def __init__(self, *filhos, nome=None, idade=35):\n",
    "        self.idade = idade\n",
    "        self.nome = nome\n",
    "        self.filhos = list(filhos)\n",
    "\n",
    "    def cumprimentar(self):\n",
    "        return f'Ola {id(self)}'\n",
    "\n",
    "    @staticmethod\n",
    "    def metodo_estatico():\n",
    "        return 42"
   ]
  },
  {
   "cell_type": "code",
   "execution_count": 3,
   "metadata": {
    "collapsed": false
   },
   "outputs": [
    {
     "name": "stdout",
     "output_type": "stream",
     "text": [
      "42 42\n"
     ]
    }
   ],
   "source": [
    "if __name__ == '__main__':\n",
    "    paulo = Pessoa(nome='Paulo')\n",
    "    rafael = Pessoa(nome='Rafael')\n",
    "    sidney = Pessoa(paulo, rafael, nome='Sidney')\n",
    "    sidney.sobrenome = 'Barbosa'\n",
    "    del paulo.filhos\n",
    "    print(Pessoa.metodo_estatico(),sidney.metodo_estatico())"
   ]
  },
  {
   "cell_type": "markdown",
   "metadata": {},
   "source": [
    "**@classmethod<br>**\n",
    "Works like static methods, but is used to check classes attributes<br>"
   ]
  },
  {
   "cell_type": "code",
   "execution_count": 10,
   "metadata": {
    "collapsed": true
   },
   "outputs": [],
   "source": [
    "class Pessoa:\n",
    "    olhos = 2\n",
    "    def __init__(self, *filhos, nome=None, idade=35):\n",
    "        self.idade = idade\n",
    "        self.nome = nome\n",
    "        self.filhos = list(filhos)\n",
    "\n",
    "    def cumprimentar(self):\n",
    "        return f'Ola {id(self)}'\n",
    "\n",
    "    @staticmethod\n",
    "    def metodo_estatico():\n",
    "        return 42\n",
    "    \n",
    "    @classmethod\n",
    "    def nome_e_atributos_de_classe(cls):\n",
    "        return f'{cls} - olhos {cls.olhos}'"
   ]
  },
  {
   "cell_type": "code",
   "execution_count": 11,
   "metadata": {
    "collapsed": false
   },
   "outputs": [
    {
     "name": "stdout",
     "output_type": "stream",
     "text": [
      "<class '__main__.Pessoa'> - olhos 2 <class '__main__.Pessoa'> - olhos 2 3\n"
     ]
    }
   ],
   "source": [
    "if __name__ == '__main__':\n",
    "    paulo = Pessoa(nome='Paulo')\n",
    "    rafael = Pessoa(nome='Rafael')\n",
    "    sidney = Pessoa(paulo, rafael, nome='Sidney')\n",
    "    sidney.sobrenome = 'Barbosa'\n",
    "    sidney.olhos = 3\n",
    "    del paulo.filhos\n",
    "    print(Pessoa.nome_e_atributos_de_classe(),sidney.nome_e_atributos_de_classe(),sidney.olhos)"
   ]
  },
  {
   "cell_type": "markdown",
   "metadata": {},
   "source": [
    "Look that the **@classmethod** returns methods and values from the class, and not from the specific object, as we could see the return of object 'sidney'"
   ]
  },
  {
   "cell_type": "markdown",
   "metadata": {},
   "source": [
    "### Compositions\n",
    "We can do compositions in classes setting values to it or using other classes to add values to it<br>\n",
    "To better understand, lets take a look bellow<br>"
   ]
  },
  {
   "cell_type": "code",
   "execution_count": null,
   "metadata": {
    "collapsed": true
   },
   "outputs": [],
   "source": []
  }
 ],
 "metadata": {
  "kernelspec": {
   "display_name": "Python 3",
   "language": "python",
   "name": "python3"
  },
  "language_info": {
   "codemirror_mode": {
    "name": "ipython",
    "version": 3
   },
   "file_extension": ".py",
   "mimetype": "text/x-python",
   "name": "python",
   "nbconvert_exporter": "python",
   "pygments_lexer": "ipython3",
   "version": "3.6.1"
  }
 },
 "nbformat": 4,
 "nbformat_minor": 2
}
